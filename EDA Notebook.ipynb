{
 "cells": [
  {
   "cell_type": "markdown",
   "metadata": {},
   "source": [
    "# EDA Notebook"
   ]
  },
  {
   "cell_type": "markdown",
   "metadata": {},
   "source": [
    "Using data from 2018-19 academic year given that 2019-20 numbers were impacted by COVID"
   ]
  },
  {
   "cell_type": "code",
   "execution_count": 1,
   "metadata": {},
   "outputs": [],
   "source": [
    "import pandas as pd"
   ]
  },
  {
   "cell_type": "markdown",
   "metadata": {},
   "source": [
    "**Knight Commission**\n",
    "- Used both by the Delta Report and Schwartz (https://www.knightcommission.org/)"
   ]
  },
  {
   "cell_type": "code",
   "execution_count": 2,
   "metadata": {},
   "outputs": [],
   "source": [
    "knight = pd.read_excel('data/knight.xlsx')"
   ]
  },
  {
   "cell_type": "code",
   "execution_count": 3,
   "metadata": {},
   "outputs": [
    {
     "data": {
      "text/html": [
       "<div>\n",
       "<style scoped>\n",
       "    .dataframe tbody tr th:only-of-type {\n",
       "        vertical-align: middle;\n",
       "    }\n",
       "\n",
       "    .dataframe tbody tr th {\n",
       "        vertical-align: top;\n",
       "    }\n",
       "\n",
       "    .dataframe thead th {\n",
       "        text-align: right;\n",
       "    }\n",
       "</style>\n",
       "<table border=\"1\" class=\"dataframe\">\n",
       "  <thead>\n",
       "    <tr style=\"text-align: right;\">\n",
       "      <th></th>\n",
       "      <th>Data</th>\n",
       "      <th>IPEDS ID</th>\n",
       "      <th>Year</th>\n",
       "      <th>NCAA Subdivision</th>\n",
       "      <th>FBS Conference</th>\n",
       "      <th>Total Expenses</th>\n",
       "      <th>Excess Transfers Back</th>\n",
       "      <th>Other Expenses</th>\n",
       "      <th>Medical</th>\n",
       "      <th>Competition Guarantees</th>\n",
       "      <th>...</th>\n",
       "      <th>NCAA/Conference Distributions, Media Rights, and Post-Season Football</th>\n",
       "      <th>Ticket Sales</th>\n",
       "      <th>Institutional/Government Support</th>\n",
       "      <th>Student Fees</th>\n",
       "      <th>Total Institutional/Government Support and Student Fees</th>\n",
       "      <th>Total Academic Spending (University-Wide)</th>\n",
       "      <th>Total Football Spending</th>\n",
       "      <th>Total Football Coaching Salaries</th>\n",
       "      <th>Athletics Related Debt</th>\n",
       "      <th>Annual Debt Service, Leases and Rental Fees on Athletic Facilities</th>\n",
       "    </tr>\n",
       "  </thead>\n",
       "  <tbody>\n",
       "    <tr>\n",
       "      <th>0</th>\n",
       "      <td>Abilene Christian University</td>\n",
       "      <td>222178</td>\n",
       "      <td>2019</td>\n",
       "      <td>Football Championship Subdivision</td>\n",
       "      <td>NaN</td>\n",
       "      <td>NaN</td>\n",
       "      <td>NaN</td>\n",
       "      <td>NaN</td>\n",
       "      <td>NaN</td>\n",
       "      <td>NaN</td>\n",
       "      <td>...</td>\n",
       "      <td>NaN</td>\n",
       "      <td>NaN</td>\n",
       "      <td>NaN</td>\n",
       "      <td>NaN</td>\n",
       "      <td>NaN</td>\n",
       "      <td>121513038.0</td>\n",
       "      <td>NaN</td>\n",
       "      <td>NaN</td>\n",
       "      <td>NaN</td>\n",
       "      <td>NaN</td>\n",
       "    </tr>\n",
       "    <tr>\n",
       "      <th>1</th>\n",
       "      <td>Alabama A &amp; M University</td>\n",
       "      <td>100654</td>\n",
       "      <td>2019</td>\n",
       "      <td>Football Championship Subdivision</td>\n",
       "      <td>NaN</td>\n",
       "      <td>12911716.0</td>\n",
       "      <td>0.0</td>\n",
       "      <td>381766.0</td>\n",
       "      <td>232697.0</td>\n",
       "      <td>0.0</td>\n",
       "      <td>...</td>\n",
       "      <td>196603.0</td>\n",
       "      <td>475190.0</td>\n",
       "      <td>10141656.0</td>\n",
       "      <td>322073.0</td>\n",
       "      <td>10463729.0</td>\n",
       "      <td>125625364.0</td>\n",
       "      <td>3962548.0</td>\n",
       "      <td>687440.0</td>\n",
       "      <td>0.0</td>\n",
       "      <td>0.0</td>\n",
       "    </tr>\n",
       "    <tr>\n",
       "      <th>2</th>\n",
       "      <td>Alabama State University</td>\n",
       "      <td>100724</td>\n",
       "      <td>2019</td>\n",
       "      <td>Football Championship Subdivision</td>\n",
       "      <td>NaN</td>\n",
       "      <td>13443801.0</td>\n",
       "      <td>0.0</td>\n",
       "      <td>1131301.0</td>\n",
       "      <td>36148.0</td>\n",
       "      <td>173000.0</td>\n",
       "      <td>...</td>\n",
       "      <td>545441.0</td>\n",
       "      <td>1218991.0</td>\n",
       "      <td>10278985.0</td>\n",
       "      <td>NaN</td>\n",
       "      <td>10278985.0</td>\n",
       "      <td>132234694.0</td>\n",
       "      <td>3057163.0</td>\n",
       "      <td>1453134.0</td>\n",
       "      <td>56245000.0</td>\n",
       "      <td>9067744.0</td>\n",
       "    </tr>\n",
       "    <tr>\n",
       "      <th>3</th>\n",
       "      <td>Alcorn State University</td>\n",
       "      <td>175342</td>\n",
       "      <td>2019</td>\n",
       "      <td>Football Championship Subdivision</td>\n",
       "      <td>NaN</td>\n",
       "      <td>6165344.0</td>\n",
       "      <td>0.0</td>\n",
       "      <td>80686.0</td>\n",
       "      <td>19000.0</td>\n",
       "      <td>61000.0</td>\n",
       "      <td>...</td>\n",
       "      <td>0.0</td>\n",
       "      <td>1183819.0</td>\n",
       "      <td>2145280.0</td>\n",
       "      <td>1307044.0</td>\n",
       "      <td>3452324.0</td>\n",
       "      <td>65273201.0</td>\n",
       "      <td>1482784.0</td>\n",
       "      <td>765000.0</td>\n",
       "      <td>NaN</td>\n",
       "      <td>NaN</td>\n",
       "    </tr>\n",
       "    <tr>\n",
       "      <th>4</th>\n",
       "      <td>American University</td>\n",
       "      <td>131159</td>\n",
       "      <td>2019</td>\n",
       "      <td>No Football Subdivision</td>\n",
       "      <td>NaN</td>\n",
       "      <td>NaN</td>\n",
       "      <td>NaN</td>\n",
       "      <td>NaN</td>\n",
       "      <td>NaN</td>\n",
       "      <td>NaN</td>\n",
       "      <td>...</td>\n",
       "      <td>NaN</td>\n",
       "      <td>NaN</td>\n",
       "      <td>NaN</td>\n",
       "      <td>NaN</td>\n",
       "      <td>NaN</td>\n",
       "      <td>531811000.0</td>\n",
       "      <td>NaN</td>\n",
       "      <td>NaN</td>\n",
       "      <td>NaN</td>\n",
       "      <td>NaN</td>\n",
       "    </tr>\n",
       "  </tbody>\n",
       "</table>\n",
       "<p>5 rows × 31 columns</p>\n",
       "</div>"
      ],
      "text/plain": [
       "                           Data  IPEDS ID  Year  \\\n",
       "0  Abilene Christian University    222178  2019   \n",
       "1      Alabama A & M University    100654  2019   \n",
       "2      Alabama State University    100724  2019   \n",
       "3       Alcorn State University    175342  2019   \n",
       "4           American University    131159  2019   \n",
       "\n",
       "                    NCAA Subdivision FBS Conference  Total Expenses  \\\n",
       "0  Football Championship Subdivision            NaN             NaN   \n",
       "1  Football Championship Subdivision            NaN      12911716.0   \n",
       "2  Football Championship Subdivision            NaN      13443801.0   \n",
       "3  Football Championship Subdivision            NaN       6165344.0   \n",
       "4            No Football Subdivision            NaN             NaN   \n",
       "\n",
       "   Excess Transfers Back  Other Expenses   Medical  Competition Guarantees  \\\n",
       "0                    NaN             NaN       NaN                     NaN   \n",
       "1                    0.0        381766.0  232697.0                     0.0   \n",
       "2                    0.0       1131301.0   36148.0                173000.0   \n",
       "3                    0.0         80686.0   19000.0                 61000.0   \n",
       "4                    NaN             NaN       NaN                     NaN   \n",
       "\n",
       "   ...  NCAA/Conference Distributions, Media Rights, and Post-Season Football  \\\n",
       "0  ...                                                NaN                       \n",
       "1  ...                                           196603.0                       \n",
       "2  ...                                           545441.0                       \n",
       "3  ...                                                0.0                       \n",
       "4  ...                                                NaN                       \n",
       "\n",
       "   Ticket Sales  Institutional/Government Support  Student Fees  \\\n",
       "0           NaN                               NaN           NaN   \n",
       "1      475190.0                        10141656.0      322073.0   \n",
       "2     1218991.0                        10278985.0           NaN   \n",
       "3     1183819.0                         2145280.0     1307044.0   \n",
       "4           NaN                               NaN           NaN   \n",
       "\n",
       "   Total Institutional/Government Support and Student Fees  \\\n",
       "0                                                NaN         \n",
       "1                                         10463729.0         \n",
       "2                                         10278985.0         \n",
       "3                                          3452324.0         \n",
       "4                                                NaN         \n",
       "\n",
       "   Total Academic Spending (University-Wide)  Total Football Spending  \\\n",
       "0                                121513038.0                      NaN   \n",
       "1                                125625364.0                3962548.0   \n",
       "2                                132234694.0                3057163.0   \n",
       "3                                 65273201.0                1482784.0   \n",
       "4                                531811000.0                      NaN   \n",
       "\n",
       "   Total Football Coaching Salaries  Athletics Related Debt  \\\n",
       "0                               NaN                     NaN   \n",
       "1                          687440.0                     0.0   \n",
       "2                         1453134.0              56245000.0   \n",
       "3                          765000.0                     NaN   \n",
       "4                               NaN                     NaN   \n",
       "\n",
       "   Annual Debt Service, Leases and Rental Fees on Athletic Facilities  \n",
       "0                                                NaN                   \n",
       "1                                                0.0                   \n",
       "2                                          9067744.0                   \n",
       "3                                                NaN                   \n",
       "4                                                NaN                   \n",
       "\n",
       "[5 rows x 31 columns]"
      ]
     },
     "execution_count": 3,
     "metadata": {},
     "output_type": "execute_result"
    }
   ],
   "source": [
    "knight.head()"
   ]
  },
  {
   "cell_type": "code",
   "execution_count": 4,
   "metadata": {},
   "outputs": [
    {
     "name": "stdout",
     "output_type": "stream",
     "text": [
      "<class 'pandas.core.frame.DataFrame'>\n",
      "RangeIndex: 353 entries, 0 to 352\n",
      "Data columns (total 31 columns):\n",
      " #   Column                                                                 Non-Null Count  Dtype  \n",
      "---  ------                                                                 --------------  -----  \n",
      " 0   Data                                                                   353 non-null    object \n",
      " 1   IPEDS ID                                                               353 non-null    int64  \n",
      " 2   Year                                                                   353 non-null    int64  \n",
      " 3   NCAA Subdivision                                                       353 non-null    object \n",
      " 4   FBS Conference                                                         130 non-null    object \n",
      " 5   Total Expenses                                                         230 non-null    float64\n",
      " 6   Excess Transfers Back                                                  230 non-null    float64\n",
      " 7   Other Expenses                                                         230 non-null    float64\n",
      " 8   Medical                                                                230 non-null    float64\n",
      " 9   Competition Guarantees                                                 228 non-null    float64\n",
      " 10  Recruiting                                                             229 non-null    float64\n",
      " 11  Game Expenses and Travel                                               230 non-null    float64\n",
      " 12  Facilities and Equipment                                               230 non-null    float64\n",
      " 13  Coaches Compensation                                                   230 non-null    float64\n",
      " 14  Support and Admin Compensation w/Severance                             230 non-null    float64\n",
      " 15  Athletic Student Aid                                                   229 non-null    float64\n",
      " 16  Total Revenues                                                         230 non-null    float64\n",
      " 17  Other Revenue                                                          230 non-null    float64\n",
      " 18  Corporate Sponsorship, Advertising, Licensing                          226 non-null    float64\n",
      " 19  Donor Contributions                                                    230 non-null    float64\n",
      " 20  Competition Guarantees.1                                               228 non-null    float64\n",
      " 21  NCAA/Conference Distributions, Media Rights, and Post-Season Football  230 non-null    float64\n",
      " 22  Ticket Sales                                                           230 non-null    float64\n",
      " 23  Institutional/Government Support                                       230 non-null    float64\n",
      " 24  Student Fees                                                           187 non-null    float64\n",
      " 25  Total Institutional/Government Support and Student Fees                230 non-null    float64\n",
      " 26  Total Academic Spending (University-Wide)                              352 non-null    float64\n",
      " 27  Total Football Spending                                                184 non-null    float64\n",
      " 28  Total Football Coaching Salaries                                       184 non-null    float64\n",
      " 29  Athletics Related Debt                                                 182 non-null    float64\n",
      " 30  Annual Debt Service, Leases and Rental Fees on Athletic Facilities     181 non-null    float64\n",
      "dtypes: float64(26), int64(2), object(3)\n",
      "memory usage: 85.6+ KB\n"
     ]
    }
   ],
   "source": [
    "# Missing Values in Most Columns\n",
    "knight.info()"
   ]
  },
  {
   "cell_type": "markdown",
   "metadata": {},
   "source": [
    "**Equity in Athletics Data Analysis**\n",
    "- US Dept of Education Data (https://ope.ed.gov/athletics/#/)"
   ]
  },
  {
   "cell_type": "code",
   "execution_count": 5,
   "metadata": {},
   "outputs": [],
   "source": [
    "eada = pd.read_excel('data/EADA_2019.xlsx')"
   ]
  },
  {
   "cell_type": "code",
   "execution_count": 6,
   "metadata": {
    "scrolled": true
   },
   "outputs": [
    {
     "data": {
      "text/html": [
       "<div>\n",
       "<style scoped>\n",
       "    .dataframe tbody tr th:only-of-type {\n",
       "        vertical-align: middle;\n",
       "    }\n",
       "\n",
       "    .dataframe tbody tr th {\n",
       "        vertical-align: top;\n",
       "    }\n",
       "\n",
       "    .dataframe thead th {\n",
       "        text-align: right;\n",
       "    }\n",
       "</style>\n",
       "<table border=\"1\" class=\"dataframe\">\n",
       "  <thead>\n",
       "    <tr style=\"text-align: right;\">\n",
       "      <th></th>\n",
       "      <th>unitid</th>\n",
       "      <th>institution_name</th>\n",
       "      <th>addr1_txt</th>\n",
       "      <th>addr2_txt</th>\n",
       "      <th>city_txt</th>\n",
       "      <th>state_cd</th>\n",
       "      <th>zip_text</th>\n",
       "      <th>ClassificationCode</th>\n",
       "      <th>classification_name</th>\n",
       "      <th>ClassificationOther</th>\n",
       "      <th>...</th>\n",
       "      <th>TOTAL_EXPENSE_ALL_OthSpts</th>\n",
       "      <th>TOTAL_EXPENSE_ALL_Archery</th>\n",
       "      <th>TOTAL_EXPENSE_ALL_Badminton</th>\n",
       "      <th>TOTAL_EXPENSE_ALL_BchVoll</th>\n",
       "      <th>TOTAL_EXPENSE_ALL_Bowling</th>\n",
       "      <th>TOTAL_EXPENSE_ALL_Eqstrian</th>\n",
       "      <th>TOTAL_EXPENSE_ALL_Rodeo</th>\n",
       "      <th>TOTAL_EXPENSE_ALL_Sailing</th>\n",
       "      <th>TOTAL_EXPENSE_ALL_TblTennis</th>\n",
       "      <th>TOTAL_EXPENSE_ALL_WgtLift</th>\n",
       "    </tr>\n",
       "  </thead>\n",
       "  <tbody>\n",
       "    <tr>\n",
       "      <th>0</th>\n",
       "      <td>100654</td>\n",
       "      <td>Alabama A &amp; M University</td>\n",
       "      <td>4900 Meridian Street</td>\n",
       "      <td>NaN</td>\n",
       "      <td>Normal</td>\n",
       "      <td>AL</td>\n",
       "      <td>35762.0</td>\n",
       "      <td>2</td>\n",
       "      <td>NCAA Division I-FCS</td>\n",
       "      <td>NaN</td>\n",
       "      <td>...</td>\n",
       "      <td>NaN</td>\n",
       "      <td>NaN</td>\n",
       "      <td>NaN</td>\n",
       "      <td>NaN</td>\n",
       "      <td>188925.0</td>\n",
       "      <td>NaN</td>\n",
       "      <td>NaN</td>\n",
       "      <td>NaN</td>\n",
       "      <td>NaN</td>\n",
       "      <td>NaN</td>\n",
       "    </tr>\n",
       "    <tr>\n",
       "      <th>1</th>\n",
       "      <td>100663</td>\n",
       "      <td>University of Alabama at Birmingham</td>\n",
       "      <td>Administration Bldg Suite 1070</td>\n",
       "      <td>NaN</td>\n",
       "      <td>Birmingham</td>\n",
       "      <td>AL</td>\n",
       "      <td>35294.0</td>\n",
       "      <td>1</td>\n",
       "      <td>NCAA Division I-FBS</td>\n",
       "      <td>NaN</td>\n",
       "      <td>...</td>\n",
       "      <td>NaN</td>\n",
       "      <td>NaN</td>\n",
       "      <td>NaN</td>\n",
       "      <td>430503.0</td>\n",
       "      <td>339840.0</td>\n",
       "      <td>NaN</td>\n",
       "      <td>NaN</td>\n",
       "      <td>NaN</td>\n",
       "      <td>NaN</td>\n",
       "      <td>NaN</td>\n",
       "    </tr>\n",
       "    <tr>\n",
       "      <th>2</th>\n",
       "      <td>100706</td>\n",
       "      <td>University of Alabama in Huntsville</td>\n",
       "      <td>301 Sparkman Dr</td>\n",
       "      <td>NaN</td>\n",
       "      <td>Huntsville</td>\n",
       "      <td>AL</td>\n",
       "      <td>35899.0</td>\n",
       "      <td>5</td>\n",
       "      <td>NCAA Division II without football</td>\n",
       "      <td>NaN</td>\n",
       "      <td>...</td>\n",
       "      <td>NaN</td>\n",
       "      <td>NaN</td>\n",
       "      <td>NaN</td>\n",
       "      <td>NaN</td>\n",
       "      <td>NaN</td>\n",
       "      <td>NaN</td>\n",
       "      <td>NaN</td>\n",
       "      <td>NaN</td>\n",
       "      <td>NaN</td>\n",
       "      <td>NaN</td>\n",
       "    </tr>\n",
       "    <tr>\n",
       "      <th>3</th>\n",
       "      <td>100724</td>\n",
       "      <td>Alabama State University</td>\n",
       "      <td>915 S Jackson Street</td>\n",
       "      <td>NaN</td>\n",
       "      <td>Montgomery</td>\n",
       "      <td>AL</td>\n",
       "      <td>36104.0</td>\n",
       "      <td>2</td>\n",
       "      <td>NCAA Division I-FCS</td>\n",
       "      <td>NaN</td>\n",
       "      <td>...</td>\n",
       "      <td>NaN</td>\n",
       "      <td>NaN</td>\n",
       "      <td>NaN</td>\n",
       "      <td>NaN</td>\n",
       "      <td>186212.0</td>\n",
       "      <td>NaN</td>\n",
       "      <td>NaN</td>\n",
       "      <td>NaN</td>\n",
       "      <td>NaN</td>\n",
       "      <td>NaN</td>\n",
       "    </tr>\n",
       "    <tr>\n",
       "      <th>4</th>\n",
       "      <td>100751</td>\n",
       "      <td>The University of Alabama</td>\n",
       "      <td>739 University Blvd</td>\n",
       "      <td>NaN</td>\n",
       "      <td>Tuscaloosa</td>\n",
       "      <td>AL</td>\n",
       "      <td>35487.0</td>\n",
       "      <td>1</td>\n",
       "      <td>NCAA Division I-FBS</td>\n",
       "      <td>NaN</td>\n",
       "      <td>...</td>\n",
       "      <td>NaN</td>\n",
       "      <td>NaN</td>\n",
       "      <td>NaN</td>\n",
       "      <td>NaN</td>\n",
       "      <td>NaN</td>\n",
       "      <td>NaN</td>\n",
       "      <td>NaN</td>\n",
       "      <td>NaN</td>\n",
       "      <td>NaN</td>\n",
       "      <td>NaN</td>\n",
       "    </tr>\n",
       "  </tbody>\n",
       "</table>\n",
       "<p>5 rows × 4274 columns</p>\n",
       "</div>"
      ],
      "text/plain": [
       "   unitid                     institution_name  \\\n",
       "0  100654             Alabama A & M University   \n",
       "1  100663  University of Alabama at Birmingham   \n",
       "2  100706  University of Alabama in Huntsville   \n",
       "3  100724             Alabama State University   \n",
       "4  100751            The University of Alabama   \n",
       "\n",
       "                        addr1_txt addr2_txt    city_txt state_cd  zip_text  \\\n",
       "0            4900 Meridian Street       NaN      Normal       AL   35762.0   \n",
       "1  Administration Bldg Suite 1070       NaN  Birmingham       AL   35294.0   \n",
       "2                 301 Sparkman Dr       NaN  Huntsville       AL   35899.0   \n",
       "3            915 S Jackson Street       NaN  Montgomery       AL   36104.0   \n",
       "4             739 University Blvd       NaN  Tuscaloosa       AL   35487.0   \n",
       "\n",
       "   ClassificationCode                classification_name ClassificationOther  \\\n",
       "0                   2                NCAA Division I-FCS                 NaN   \n",
       "1                   1                NCAA Division I-FBS                 NaN   \n",
       "2                   5  NCAA Division II without football                 NaN   \n",
       "3                   2                NCAA Division I-FCS                 NaN   \n",
       "4                   1                NCAA Division I-FBS                 NaN   \n",
       "\n",
       "   ...  TOTAL_EXPENSE_ALL_OthSpts  TOTAL_EXPENSE_ALL_Archery  \\\n",
       "0  ...                        NaN                        NaN   \n",
       "1  ...                        NaN                        NaN   \n",
       "2  ...                        NaN                        NaN   \n",
       "3  ...                        NaN                        NaN   \n",
       "4  ...                        NaN                        NaN   \n",
       "\n",
       "   TOTAL_EXPENSE_ALL_Badminton  TOTAL_EXPENSE_ALL_BchVoll  \\\n",
       "0                          NaN                        NaN   \n",
       "1                          NaN                   430503.0   \n",
       "2                          NaN                        NaN   \n",
       "3                          NaN                        NaN   \n",
       "4                          NaN                        NaN   \n",
       "\n",
       "  TOTAL_EXPENSE_ALL_Bowling  TOTAL_EXPENSE_ALL_Eqstrian  \\\n",
       "0                  188925.0                         NaN   \n",
       "1                  339840.0                         NaN   \n",
       "2                       NaN                         NaN   \n",
       "3                  186212.0                         NaN   \n",
       "4                       NaN                         NaN   \n",
       "\n",
       "   TOTAL_EXPENSE_ALL_Rodeo  TOTAL_EXPENSE_ALL_Sailing  \\\n",
       "0                      NaN                        NaN   \n",
       "1                      NaN                        NaN   \n",
       "2                      NaN                        NaN   \n",
       "3                      NaN                        NaN   \n",
       "4                      NaN                        NaN   \n",
       "\n",
       "   TOTAL_EXPENSE_ALL_TblTennis  TOTAL_EXPENSE_ALL_WgtLift  \n",
       "0                          NaN                        NaN  \n",
       "1                          NaN                        NaN  \n",
       "2                          NaN                        NaN  \n",
       "3                          NaN                        NaN  \n",
       "4                          NaN                        NaN  \n",
       "\n",
       "[5 rows x 4274 columns]"
      ]
     },
     "execution_count": 6,
     "metadata": {},
     "output_type": "execute_result"
    }
   ],
   "source": [
    "eada.head()"
   ]
  },
  {
   "cell_type": "code",
   "execution_count": 7,
   "metadata": {},
   "outputs": [],
   "source": [
    "bama = eada[eada['institution_name']=='The University of Alabama']"
   ]
  },
  {
   "cell_type": "code",
   "execution_count": 8,
   "metadata": {},
   "outputs": [
    {
     "data": {
      "text/plain": [
       "4    416.0\n",
       "Name: IL_PARTIC_WOMEN, dtype: float64"
      ]
     },
     "execution_count": 8,
     "metadata": {},
     "output_type": "execute_result"
    }
   ],
   "source": [
    "bama['IL_PARTIC_WOMEN']"
   ]
  },
  {
   "cell_type": "code",
   "execution_count": 9,
   "metadata": {
    "scrolled": true
   },
   "outputs": [
    {
     "data": {
      "text/plain": [
       "370      4\n",
       "727      4\n",
       "1246     4\n",
       "654      4\n",
       "1659     4\n",
       "        ..\n",
       "623      1\n",
       "2672     1\n",
       "6772     1\n",
       "10870    1\n",
       "2114     1\n",
       "Name: EFTotalCount, Length: 1750, dtype: int64"
      ]
     },
     "execution_count": 9,
     "metadata": {},
     "output_type": "execute_result"
    }
   ],
   "source": [
    "eada['EFTotalCount'].value_counts()"
   ]
  },
  {
   "cell_type": "code",
   "execution_count": 10,
   "metadata": {},
   "outputs": [],
   "source": [
    "# Grabbing IPEDS ID, Institution Name, total student athlete numbers, and total athletic dept expenses/revenues\n",
    "eada_small = eada[['unitid', 'institution_name', 'IL_PARTIC_MEN', 'IL_PARTIC_WOMEN', 'GRND_TOTAL_EXPENSE', 'GRND_TOTAL_REVENUE']]"
   ]
  },
  {
   "cell_type": "code",
   "execution_count": 11,
   "metadata": {},
   "outputs": [
    {
     "data": {
      "text/html": [
       "<div>\n",
       "<style scoped>\n",
       "    .dataframe tbody tr th:only-of-type {\n",
       "        vertical-align: middle;\n",
       "    }\n",
       "\n",
       "    .dataframe tbody tr th {\n",
       "        vertical-align: top;\n",
       "    }\n",
       "\n",
       "    .dataframe thead th {\n",
       "        text-align: right;\n",
       "    }\n",
       "</style>\n",
       "<table border=\"1\" class=\"dataframe\">\n",
       "  <thead>\n",
       "    <tr style=\"text-align: right;\">\n",
       "      <th></th>\n",
       "      <th>unitid</th>\n",
       "      <th>institution_name</th>\n",
       "      <th>IL_PARTIC_MEN</th>\n",
       "      <th>IL_PARTIC_WOMEN</th>\n",
       "      <th>GRND_TOTAL_EXPENSE</th>\n",
       "      <th>GRND_TOTAL_REVENUE</th>\n",
       "    </tr>\n",
       "  </thead>\n",
       "  <tbody>\n",
       "    <tr>\n",
       "      <th>0</th>\n",
       "      <td>100654</td>\n",
       "      <td>Alabama A &amp; M University</td>\n",
       "      <td>191.0</td>\n",
       "      <td>133.0</td>\n",
       "      <td>13626724</td>\n",
       "      <td>13790500</td>\n",
       "    </tr>\n",
       "    <tr>\n",
       "      <th>1</th>\n",
       "      <td>100663</td>\n",
       "      <td>University of Alabama at Birmingham</td>\n",
       "      <td>224.0</td>\n",
       "      <td>201.0</td>\n",
       "      <td>35697117</td>\n",
       "      <td>36494380</td>\n",
       "    </tr>\n",
       "    <tr>\n",
       "      <th>2</th>\n",
       "      <td>100706</td>\n",
       "      <td>University of Alabama in Huntsville</td>\n",
       "      <td>272.0</td>\n",
       "      <td>195.0</td>\n",
       "      <td>7781027</td>\n",
       "      <td>7781027</td>\n",
       "    </tr>\n",
       "    <tr>\n",
       "      <th>3</th>\n",
       "      <td>100724</td>\n",
       "      <td>Alabama State University</td>\n",
       "      <td>255.0</td>\n",
       "      <td>177.0</td>\n",
       "      <td>11639722</td>\n",
       "      <td>11639722</td>\n",
       "    </tr>\n",
       "    <tr>\n",
       "      <th>4</th>\n",
       "      <td>100751</td>\n",
       "      <td>The University of Alabama</td>\n",
       "      <td>342.0</td>\n",
       "      <td>416.0</td>\n",
       "      <td>166812799</td>\n",
       "      <td>166812799</td>\n",
       "    </tr>\n",
       "    <tr>\n",
       "      <th>...</th>\n",
       "      <td>...</td>\n",
       "      <td>...</td>\n",
       "      <td>...</td>\n",
       "      <td>...</td>\n",
       "      <td>...</td>\n",
       "      <td>...</td>\n",
       "    </tr>\n",
       "    <tr>\n",
       "      <th>2069</th>\n",
       "      <td>489201</td>\n",
       "      <td>Clovis Community College</td>\n",
       "      <td>55.0</td>\n",
       "      <td>49.0</td>\n",
       "      <td>495657</td>\n",
       "      <td>495657</td>\n",
       "    </tr>\n",
       "    <tr>\n",
       "      <th>2070</th>\n",
       "      <td>489937</td>\n",
       "      <td>Piedmont International University</td>\n",
       "      <td>78.0</td>\n",
       "      <td>66.0</td>\n",
       "      <td>2169500</td>\n",
       "      <td>2169500</td>\n",
       "    </tr>\n",
       "    <tr>\n",
       "      <th>2071</th>\n",
       "      <td>490805</td>\n",
       "      <td>Purdue University Northwest</td>\n",
       "      <td>112.0</td>\n",
       "      <td>105.0</td>\n",
       "      <td>3560693</td>\n",
       "      <td>3560693</td>\n",
       "    </tr>\n",
       "    <tr>\n",
       "      <th>2072</th>\n",
       "      <td>492069</td>\n",
       "      <td>Champion Christian College</td>\n",
       "      <td>54.0</td>\n",
       "      <td>0.0</td>\n",
       "      <td>93483</td>\n",
       "      <td>93483</td>\n",
       "    </tr>\n",
       "    <tr>\n",
       "      <th>2073</th>\n",
       "      <td>800001</td>\n",
       "      <td>Simon Fraser University</td>\n",
       "      <td>260.0</td>\n",
       "      <td>195.0</td>\n",
       "      <td>8684391</td>\n",
       "      <td>8684391</td>\n",
       "    </tr>\n",
       "  </tbody>\n",
       "</table>\n",
       "<p>2074 rows × 6 columns</p>\n",
       "</div>"
      ],
      "text/plain": [
       "      unitid                     institution_name  IL_PARTIC_MEN  \\\n",
       "0     100654             Alabama A & M University          191.0   \n",
       "1     100663  University of Alabama at Birmingham          224.0   \n",
       "2     100706  University of Alabama in Huntsville          272.0   \n",
       "3     100724             Alabama State University          255.0   \n",
       "4     100751            The University of Alabama          342.0   \n",
       "...      ...                                  ...            ...   \n",
       "2069  489201             Clovis Community College           55.0   \n",
       "2070  489937    Piedmont International University           78.0   \n",
       "2071  490805          Purdue University Northwest          112.0   \n",
       "2072  492069           Champion Christian College           54.0   \n",
       "2073  800001              Simon Fraser University          260.0   \n",
       "\n",
       "      IL_PARTIC_WOMEN  GRND_TOTAL_EXPENSE  GRND_TOTAL_REVENUE  \n",
       "0               133.0            13626724            13790500  \n",
       "1               201.0            35697117            36494380  \n",
       "2               195.0             7781027             7781027  \n",
       "3               177.0            11639722            11639722  \n",
       "4               416.0           166812799           166812799  \n",
       "...               ...                 ...                 ...  \n",
       "2069             49.0              495657              495657  \n",
       "2070             66.0             2169500             2169500  \n",
       "2071            105.0             3560693             3560693  \n",
       "2072              0.0               93483               93483  \n",
       "2073            195.0             8684391             8684391  \n",
       "\n",
       "[2074 rows x 6 columns]"
      ]
     },
     "execution_count": 11,
     "metadata": {},
     "output_type": "execute_result"
    }
   ],
   "source": [
    "eada_small"
   ]
  },
  {
   "cell_type": "markdown",
   "metadata": {},
   "source": [
    "**College Scorecard**\n",
    "- More US Dept of Education Data (https://collegescorecard.ed.gov/)"
   ]
  },
  {
   "cell_type": "code",
   "execution_count": 12,
   "metadata": {},
   "outputs": [],
   "source": [
    "#cs = pd.read_csv('data/MERGED2018_19_PP.csv')"
   ]
  },
  {
   "cell_type": "code",
   "execution_count": 13,
   "metadata": {
    "scrolled": true
   },
   "outputs": [],
   "source": [
    "#cs.head()"
   ]
  },
  {
   "cell_type": "code",
   "execution_count": 14,
   "metadata": {},
   "outputs": [],
   "source": [
    "#cs['DEBT_N'].value_counts()"
   ]
  },
  {
   "cell_type": "code",
   "execution_count": 15,
   "metadata": {},
   "outputs": [],
   "source": [
    "# Grabbing IPEDS ID, Institution Name, and full-time/part-time retention rates\n",
    "#cs_small = cs[['UNITID', 'INSTNM', 'RET_FT4', 'RET_PT4']]"
   ]
  },
  {
   "cell_type": "code",
   "execution_count": 16,
   "metadata": {},
   "outputs": [],
   "source": [
    "#cs_small"
   ]
  },
  {
   "cell_type": "markdown",
   "metadata": {},
   "source": [
    "**NCES (National Center for Education Statistics) IPEDS (Integrated Postsecondary Education Data System)**\n",
    "- Enrollment and Rention Records (https://nces.ed.gov/ipeds/)\n",
    "- This contains the same data as the College Scorecard, so I don't think I need the latter anymore..."
   ]
  },
  {
   "cell_type": "code",
   "execution_count": 17,
   "metadata": {},
   "outputs": [],
   "source": [
    "ipeds = pd.read_csv('data/IPEDS.csv')"
   ]
  },
  {
   "cell_type": "code",
   "execution_count": 18,
   "metadata": {
    "scrolled": true
   },
   "outputs": [
    {
     "data": {
      "text/html": [
       "<div>\n",
       "<style scoped>\n",
       "    .dataframe tbody tr th:only-of-type {\n",
       "        vertical-align: middle;\n",
       "    }\n",
       "\n",
       "    .dataframe tbody tr th {\n",
       "        vertical-align: top;\n",
       "    }\n",
       "\n",
       "    .dataframe thead th {\n",
       "        text-align: right;\n",
       "    }\n",
       "</style>\n",
       "<table border=\"1\" class=\"dataframe\">\n",
       "  <thead>\n",
       "    <tr style=\"text-align: right;\">\n",
       "      <th></th>\n",
       "      <th>unitid</th>\n",
       "      <th>institution name</th>\n",
       "      <th>year</th>\n",
       "      <th>DRVEF2018_RV.Total  enrollment</th>\n",
       "      <th>DRVEF2018_RV.Full-time enrollment</th>\n",
       "      <th>DRVEF2018_RV.Part-time enrollment</th>\n",
       "      <th>EF2018D_RV.Full-time retention rate, 2018</th>\n",
       "      <th>EF2018D_RV.Part-time retention rate, 2018</th>\n",
       "    </tr>\n",
       "  </thead>\n",
       "  <tbody>\n",
       "    <tr>\n",
       "      <th>0</th>\n",
       "      <td>100654</td>\n",
       "      <td>Alabama A &amp; M University</td>\n",
       "      <td>2018</td>\n",
       "      <td>6106.0</td>\n",
       "      <td>5492.0</td>\n",
       "      <td>614.0</td>\n",
       "      <td>61.0</td>\n",
       "      <td>100.0</td>\n",
       "    </tr>\n",
       "    <tr>\n",
       "      <th>1</th>\n",
       "      <td>100663</td>\n",
       "      <td>University of Alabama at Birmingham</td>\n",
       "      <td>2018</td>\n",
       "      <td>21923.0</td>\n",
       "      <td>14220.0</td>\n",
       "      <td>7703.0</td>\n",
       "      <td>82.0</td>\n",
       "      <td>46.0</td>\n",
       "    </tr>\n",
       "    <tr>\n",
       "      <th>2</th>\n",
       "      <td>100690</td>\n",
       "      <td>Amridge University</td>\n",
       "      <td>2018</td>\n",
       "      <td>755.0</td>\n",
       "      <td>295.0</td>\n",
       "      <td>460.0</td>\n",
       "      <td>NaN</td>\n",
       "      <td>NaN</td>\n",
       "    </tr>\n",
       "    <tr>\n",
       "      <th>3</th>\n",
       "      <td>100706</td>\n",
       "      <td>University of Alabama in Huntsville</td>\n",
       "      <td>2018</td>\n",
       "      <td>9736.0</td>\n",
       "      <td>7125.0</td>\n",
       "      <td>2611.0</td>\n",
       "      <td>83.0</td>\n",
       "      <td>9.0</td>\n",
       "    </tr>\n",
       "    <tr>\n",
       "      <th>4</th>\n",
       "      <td>100724</td>\n",
       "      <td>Alabama State University</td>\n",
       "      <td>2018</td>\n",
       "      <td>4413.0</td>\n",
       "      <td>3934.0</td>\n",
       "      <td>479.0</td>\n",
       "      <td>59.0</td>\n",
       "      <td>13.0</td>\n",
       "    </tr>\n",
       "  </tbody>\n",
       "</table>\n",
       "</div>"
      ],
      "text/plain": [
       "   unitid                     institution name  year  \\\n",
       "0  100654             Alabama A & M University  2018   \n",
       "1  100663  University of Alabama at Birmingham  2018   \n",
       "2  100690                   Amridge University  2018   \n",
       "3  100706  University of Alabama in Huntsville  2018   \n",
       "4  100724             Alabama State University  2018   \n",
       "\n",
       "   DRVEF2018_RV.Total  enrollment  DRVEF2018_RV.Full-time enrollment  \\\n",
       "0                          6106.0                             5492.0   \n",
       "1                         21923.0                            14220.0   \n",
       "2                           755.0                              295.0   \n",
       "3                          9736.0                             7125.0   \n",
       "4                          4413.0                             3934.0   \n",
       "\n",
       "   DRVEF2018_RV.Part-time enrollment  \\\n",
       "0                              614.0   \n",
       "1                             7703.0   \n",
       "2                              460.0   \n",
       "3                             2611.0   \n",
       "4                              479.0   \n",
       "\n",
       "   EF2018D_RV.Full-time retention rate, 2018  \\\n",
       "0                                       61.0   \n",
       "1                                       82.0   \n",
       "2                                        NaN   \n",
       "3                                       83.0   \n",
       "4                                       59.0   \n",
       "\n",
       "   EF2018D_RV.Part-time retention rate, 2018  \n",
       "0                                      100.0  \n",
       "1                                       46.0  \n",
       "2                                        NaN  \n",
       "3                                        9.0  \n",
       "4                                       13.0  "
      ]
     },
     "execution_count": 18,
     "metadata": {},
     "output_type": "execute_result"
    }
   ],
   "source": [
    "ipeds.head()"
   ]
  },
  {
   "cell_type": "code",
   "execution_count": 19,
   "metadata": {},
   "outputs": [
    {
     "data": {
      "text/plain": [
       "68.97054631828979"
      ]
     },
     "execution_count": 19,
     "metadata": {},
     "output_type": "execute_result"
    }
   ],
   "source": [
    "ipeds['EF2018D_RV.Full-time retention rate, 2018'].mean()"
   ]
  },
  {
   "cell_type": "code",
   "execution_count": 20,
   "metadata": {},
   "outputs": [],
   "source": [
    "bama2 = ipeds[ipeds['institution name']=='The University of Alabama']"
   ]
  },
  {
   "cell_type": "code",
   "execution_count": 21,
   "metadata": {},
   "outputs": [
    {
     "data": {
      "text/html": [
       "<div>\n",
       "<style scoped>\n",
       "    .dataframe tbody tr th:only-of-type {\n",
       "        vertical-align: middle;\n",
       "    }\n",
       "\n",
       "    .dataframe tbody tr th {\n",
       "        vertical-align: top;\n",
       "    }\n",
       "\n",
       "    .dataframe thead th {\n",
       "        text-align: right;\n",
       "    }\n",
       "</style>\n",
       "<table border=\"1\" class=\"dataframe\">\n",
       "  <thead>\n",
       "    <tr style=\"text-align: right;\">\n",
       "      <th></th>\n",
       "      <th>unitid</th>\n",
       "      <th>institution name</th>\n",
       "      <th>year</th>\n",
       "      <th>DRVEF2018_RV.Total  enrollment</th>\n",
       "      <th>DRVEF2018_RV.Full-time enrollment</th>\n",
       "      <th>DRVEF2018_RV.Part-time enrollment</th>\n",
       "      <th>EF2018D_RV.Full-time retention rate, 2018</th>\n",
       "      <th>EF2018D_RV.Part-time retention rate, 2018</th>\n",
       "    </tr>\n",
       "  </thead>\n",
       "  <tbody>\n",
       "    <tr>\n",
       "      <th>6</th>\n",
       "      <td>100751</td>\n",
       "      <td>The University of Alabama</td>\n",
       "      <td>2018</td>\n",
       "      <td>38390.0</td>\n",
       "      <td>33038.0</td>\n",
       "      <td>5352.0</td>\n",
       "      <td>88.0</td>\n",
       "      <td>64.0</td>\n",
       "    </tr>\n",
       "  </tbody>\n",
       "</table>\n",
       "</div>"
      ],
      "text/plain": [
       "   unitid           institution name  year  DRVEF2018_RV.Total  enrollment  \\\n",
       "6  100751  The University of Alabama  2018                         38390.0   \n",
       "\n",
       "   DRVEF2018_RV.Full-time enrollment  DRVEF2018_RV.Part-time enrollment  \\\n",
       "6                            33038.0                             5352.0   \n",
       "\n",
       "   EF2018D_RV.Full-time retention rate, 2018  \\\n",
       "6                                       88.0   \n",
       "\n",
       "   EF2018D_RV.Part-time retention rate, 2018  \n",
       "6                                       64.0  "
      ]
     },
     "execution_count": 21,
     "metadata": {},
     "output_type": "execute_result"
    }
   ],
   "source": [
    "bama2"
   ]
  },
  {
   "cell_type": "markdown",
   "metadata": {},
   "source": [
    "Institution ID Labels:\n",
    "\n",
    "- Knight = 'IPEDS ID'\n",
    "- EADA = 'unitid'\n",
    "- CS = 'UNITID'\n",
    "- IPEDS = 'unitid'"
   ]
  },
  {
   "cell_type": "code",
   "execution_count": 22,
   "metadata": {},
   "outputs": [],
   "source": [
    "# Combining IPEDS enrollment/retention numbers with EADA athletic expenses/revenues and student participation\n",
    "merge_1 = pd.merge(ipeds, eada_small, how='inner', left_on=['unitid', 'institution name'], right_on = ['unitid', 'institution_name'])"
   ]
  },
  {
   "cell_type": "code",
   "execution_count": 23,
   "metadata": {},
   "outputs": [],
   "source": [
    "df = pd.merge(merge_1, knight, how='inner', \n",
    "              left_on=['unitid', 'institution name'], \n",
    "              right_on = ['IPEDS ID', 'Data'])"
   ]
  },
  {
   "cell_type": "code",
   "execution_count": 24,
   "metadata": {},
   "outputs": [
    {
     "name": "stdout",
     "output_type": "stream",
     "text": [
      "<class 'pandas.core.frame.DataFrame'>\n",
      "Int64Index: 284 entries, 0 to 283\n",
      "Data columns (total 44 columns):\n",
      " #   Column                                                                 Non-Null Count  Dtype  \n",
      "---  ------                                                                 --------------  -----  \n",
      " 0   unitid                                                                 284 non-null    int64  \n",
      " 1   institution name                                                       284 non-null    object \n",
      " 2   year                                                                   284 non-null    int64  \n",
      " 3   DRVEF2018_RV.Total  enrollment                                         284 non-null    float64\n",
      " 4   DRVEF2018_RV.Full-time enrollment                                      284 non-null    float64\n",
      " 5   DRVEF2018_RV.Part-time enrollment                                      284 non-null    float64\n",
      " 6   EF2018D_RV.Full-time retention rate, 2018                              284 non-null    float64\n",
      " 7   EF2018D_RV.Part-time retention rate, 2018                              244 non-null    float64\n",
      " 8   institution_name                                                       284 non-null    object \n",
      " 9   IL_PARTIC_MEN                                                          284 non-null    float64\n",
      " 10  IL_PARTIC_WOMEN                                                        284 non-null    float64\n",
      " 11  GRND_TOTAL_EXPENSE                                                     284 non-null    int64  \n",
      " 12  GRND_TOTAL_REVENUE                                                     284 non-null    int64  \n",
      " 13  Data                                                                   284 non-null    object \n",
      " 14  IPEDS ID                                                               284 non-null    int64  \n",
      " 15  Year                                                                   284 non-null    int64  \n",
      " 16  NCAA Subdivision                                                       284 non-null    object \n",
      " 17  FBS Conference                                                         98 non-null     object \n",
      " 18  Total Expenses                                                         183 non-null    float64\n",
      " 19  Excess Transfers Back                                                  183 non-null    float64\n",
      " 20  Other Expenses                                                         183 non-null    float64\n",
      " 21  Medical                                                                183 non-null    float64\n",
      " 22  Competition Guarantees                                                 182 non-null    float64\n",
      " 23  Recruiting                                                             182 non-null    float64\n",
      " 24  Game Expenses and Travel                                               183 non-null    float64\n",
      " 25  Facilities and Equipment                                               183 non-null    float64\n",
      " 26  Coaches Compensation                                                   183 non-null    float64\n",
      " 27  Support and Admin Compensation w/Severance                             183 non-null    float64\n",
      " 28  Athletic Student Aid                                                   183 non-null    float64\n",
      " 29  Total Revenues                                                         183 non-null    float64\n",
      " 30  Other Revenue                                                          183 non-null    float64\n",
      " 31  Corporate Sponsorship, Advertising, Licensing                          179 non-null    float64\n",
      " 32  Donor Contributions                                                    183 non-null    float64\n",
      " 33  Competition Guarantees.1                                               182 non-null    float64\n",
      " 34  NCAA/Conference Distributions, Media Rights, and Post-Season Football  183 non-null    float64\n",
      " 35  Ticket Sales                                                           183 non-null    float64\n",
      " 36  Institutional/Government Support                                       183 non-null    float64\n",
      " 37  Student Fees                                                           152 non-null    float64\n",
      " 38  Total Institutional/Government Support and Student Fees                183 non-null    float64\n",
      " 39  Total Academic Spending (University-Wide)                              283 non-null    float64\n",
      " 40  Total Football Spending                                                145 non-null    float64\n",
      " 41  Total Football Coaching Salaries                                       145 non-null    float64\n",
      " 42  Athletics Related Debt                                                 142 non-null    float64\n",
      " 43  Annual Debt Service, Leases and Rental Fees on Athletic Facilities     143 non-null    float64\n",
      "dtypes: float64(33), int64(6), object(5)\n",
      "memory usage: 99.8+ KB\n"
     ]
    }
   ],
   "source": [
    "df.info()"
   ]
  },
  {
   "cell_type": "code",
   "execution_count": 25,
   "metadata": {},
   "outputs": [],
   "source": [
    "df = df.drop(columns=['institution_name', 'Data', 'IPEDS ID', 'Year'])"
   ]
  },
  {
   "cell_type": "code",
   "execution_count": 26,
   "metadata": {},
   "outputs": [
    {
     "name": "stdout",
     "output_type": "stream",
     "text": [
      "<class 'pandas.core.frame.DataFrame'>\n",
      "Int64Index: 284 entries, 0 to 283\n",
      "Data columns (total 40 columns):\n",
      " #   Column                                                                 Non-Null Count  Dtype  \n",
      "---  ------                                                                 --------------  -----  \n",
      " 0   unitid                                                                 284 non-null    int64  \n",
      " 1   institution name                                                       284 non-null    object \n",
      " 2   year                                                                   284 non-null    int64  \n",
      " 3   DRVEF2018_RV.Total  enrollment                                         284 non-null    float64\n",
      " 4   DRVEF2018_RV.Full-time enrollment                                      284 non-null    float64\n",
      " 5   DRVEF2018_RV.Part-time enrollment                                      284 non-null    float64\n",
      " 6   EF2018D_RV.Full-time retention rate, 2018                              284 non-null    float64\n",
      " 7   EF2018D_RV.Part-time retention rate, 2018                              244 non-null    float64\n",
      " 8   IL_PARTIC_MEN                                                          284 non-null    float64\n",
      " 9   IL_PARTIC_WOMEN                                                        284 non-null    float64\n",
      " 10  GRND_TOTAL_EXPENSE                                                     284 non-null    int64  \n",
      " 11  GRND_TOTAL_REVENUE                                                     284 non-null    int64  \n",
      " 12  NCAA Subdivision                                                       284 non-null    object \n",
      " 13  FBS Conference                                                         98 non-null     object \n",
      " 14  Total Expenses                                                         183 non-null    float64\n",
      " 15  Excess Transfers Back                                                  183 non-null    float64\n",
      " 16  Other Expenses                                                         183 non-null    float64\n",
      " 17  Medical                                                                183 non-null    float64\n",
      " 18  Competition Guarantees                                                 182 non-null    float64\n",
      " 19  Recruiting                                                             182 non-null    float64\n",
      " 20  Game Expenses and Travel                                               183 non-null    float64\n",
      " 21  Facilities and Equipment                                               183 non-null    float64\n",
      " 22  Coaches Compensation                                                   183 non-null    float64\n",
      " 23  Support and Admin Compensation w/Severance                             183 non-null    float64\n",
      " 24  Athletic Student Aid                                                   183 non-null    float64\n",
      " 25  Total Revenues                                                         183 non-null    float64\n",
      " 26  Other Revenue                                                          183 non-null    float64\n",
      " 27  Corporate Sponsorship, Advertising, Licensing                          179 non-null    float64\n",
      " 28  Donor Contributions                                                    183 non-null    float64\n",
      " 29  Competition Guarantees.1                                               182 non-null    float64\n",
      " 30  NCAA/Conference Distributions, Media Rights, and Post-Season Football  183 non-null    float64\n",
      " 31  Ticket Sales                                                           183 non-null    float64\n",
      " 32  Institutional/Government Support                                       183 non-null    float64\n",
      " 33  Student Fees                                                           152 non-null    float64\n",
      " 34  Total Institutional/Government Support and Student Fees                183 non-null    float64\n",
      " 35  Total Academic Spending (University-Wide)                              283 non-null    float64\n",
      " 36  Total Football Spending                                                145 non-null    float64\n",
      " 37  Total Football Coaching Salaries                                       145 non-null    float64\n",
      " 38  Athletics Related Debt                                                 142 non-null    float64\n",
      " 39  Annual Debt Service, Leases and Rental Fees on Athletic Facilities     143 non-null    float64\n",
      "dtypes: float64(33), int64(4), object(3)\n",
      "memory usage: 91.0+ KB\n"
     ]
    }
   ],
   "source": [
    "df.info()"
   ]
  },
  {
   "cell_type": "code",
   "execution_count": 27,
   "metadata": {},
   "outputs": [],
   "source": [
    "df.rename(columns={'DRVEF2018_RV.Total  enrollment': 'Total Enrollment', \n",
    "                  'DRVEF2018_RV.Full-time enrollment': 'Full-Time Enrollment',\n",
    "                  'DRVEF2018_RV.Part-time enrollment': 'Part-Time Enrollment',\n",
    "                  'EF2018D_RV.Full-time retention rate, 2018': 'Full-Time Retention Rate',\n",
    "                  'EF2018D_RV.Part-time retention rate, 2018': 'Part-Time Retention Rate'},\n",
    "         inplace=True)"
   ]
  },
  {
   "cell_type": "code",
   "execution_count": 28,
   "metadata": {},
   "outputs": [
    {
     "name": "stdout",
     "output_type": "stream",
     "text": [
      "<class 'pandas.core.frame.DataFrame'>\n",
      "Int64Index: 284 entries, 0 to 283\n",
      "Data columns (total 40 columns):\n",
      " #   Column                                                                 Non-Null Count  Dtype  \n",
      "---  ------                                                                 --------------  -----  \n",
      " 0   unitid                                                                 284 non-null    int64  \n",
      " 1   institution name                                                       284 non-null    object \n",
      " 2   year                                                                   284 non-null    int64  \n",
      " 3   Total Enrollment                                                       284 non-null    float64\n",
      " 4   Full-Time Enrollment                                                   284 non-null    float64\n",
      " 5   Part-Time Enrollment                                                   284 non-null    float64\n",
      " 6   Full-Time Retention Rate                                               284 non-null    float64\n",
      " 7   Part-Time Retention Rate                                               244 non-null    float64\n",
      " 8   IL_PARTIC_MEN                                                          284 non-null    float64\n",
      " 9   IL_PARTIC_WOMEN                                                        284 non-null    float64\n",
      " 10  GRND_TOTAL_EXPENSE                                                     284 non-null    int64  \n",
      " 11  GRND_TOTAL_REVENUE                                                     284 non-null    int64  \n",
      " 12  NCAA Subdivision                                                       284 non-null    object \n",
      " 13  FBS Conference                                                         98 non-null     object \n",
      " 14  Total Expenses                                                         183 non-null    float64\n",
      " 15  Excess Transfers Back                                                  183 non-null    float64\n",
      " 16  Other Expenses                                                         183 non-null    float64\n",
      " 17  Medical                                                                183 non-null    float64\n",
      " 18  Competition Guarantees                                                 182 non-null    float64\n",
      " 19  Recruiting                                                             182 non-null    float64\n",
      " 20  Game Expenses and Travel                                               183 non-null    float64\n",
      " 21  Facilities and Equipment                                               183 non-null    float64\n",
      " 22  Coaches Compensation                                                   183 non-null    float64\n",
      " 23  Support and Admin Compensation w/Severance                             183 non-null    float64\n",
      " 24  Athletic Student Aid                                                   183 non-null    float64\n",
      " 25  Total Revenues                                                         183 non-null    float64\n",
      " 26  Other Revenue                                                          183 non-null    float64\n",
      " 27  Corporate Sponsorship, Advertising, Licensing                          179 non-null    float64\n",
      " 28  Donor Contributions                                                    183 non-null    float64\n",
      " 29  Competition Guarantees.1                                               182 non-null    float64\n",
      " 30  NCAA/Conference Distributions, Media Rights, and Post-Season Football  183 non-null    float64\n",
      " 31  Ticket Sales                                                           183 non-null    float64\n",
      " 32  Institutional/Government Support                                       183 non-null    float64\n",
      " 33  Student Fees                                                           152 non-null    float64\n",
      " 34  Total Institutional/Government Support and Student Fees                183 non-null    float64\n",
      " 35  Total Academic Spending (University-Wide)                              283 non-null    float64\n",
      " 36  Total Football Spending                                                145 non-null    float64\n",
      " 37  Total Football Coaching Salaries                                       145 non-null    float64\n",
      " 38  Athletics Related Debt                                                 142 non-null    float64\n",
      " 39  Annual Debt Service, Leases and Rental Fees on Athletic Facilities     143 non-null    float64\n",
      "dtypes: float64(33), int64(4), object(3)\n",
      "memory usage: 91.0+ KB\n"
     ]
    }
   ],
   "source": [
    "df.info()"
   ]
  },
  {
   "cell_type": "code",
   "execution_count": 29,
   "metadata": {},
   "outputs": [
    {
     "data": {
      "text/plain": [
       "Football Championship Subdivision    105\n",
       "Football Bowl Subdivision             98\n",
       "No Football Subdivision               81\n",
       "Name: NCAA Subdivision, dtype: int64"
      ]
     },
     "execution_count": 29,
     "metadata": {},
     "output_type": "execute_result"
    }
   ],
   "source": [
    "df['NCAA Subdivision'].value_counts()"
   ]
  },
  {
   "cell_type": "code",
   "execution_count": 30,
   "metadata": {
    "scrolled": true
   },
   "outputs": [
    {
     "data": {
      "text/plain": [
       "Conference USA                  14\n",
       "Atlantic Coast Conference       11\n",
       "Southeastern Conference         11\n",
       "Pacific-12 Conference           10\n",
       "American Athletic Conference     9\n",
       "Mountain West Conference         9\n",
       "Sun Belt Conference              9\n",
       "Big Ten Conference               8\n",
       "Big 12 Conference                8\n",
       "Mid-American Conference          6\n",
       "Independent                      3\n",
       "Name: FBS Conference, dtype: int64"
      ]
     },
     "execution_count": 30,
     "metadata": {},
     "output_type": "execute_result"
    }
   ],
   "source": [
    "df['FBS Conference'].value_counts()"
   ]
  },
  {
   "cell_type": "code",
   "execution_count": 31,
   "metadata": {},
   "outputs": [],
   "source": [
    "fcs = df[df['NCAA Subdivision'] == 'Football Championship Subdivision']"
   ]
  },
  {
   "cell_type": "code",
   "execution_count": 32,
   "metadata": {},
   "outputs": [],
   "source": [
    "nfs = df[df['NCAA Subdivision'] == 'No Football Subdivision']"
   ]
  },
  {
   "cell_type": "code",
   "execution_count": 33,
   "metadata": {},
   "outputs": [],
   "source": [
    "fbs = df[df['NCAA Subdivision'] == 'Football Bowl Subdivision']"
   ]
  },
  {
   "cell_type": "code",
   "execution_count": 34,
   "metadata": {
    "scrolled": true
   },
   "outputs": [
    {
     "data": {
      "text/plain": [
       "78.0952380952381"
      ]
     },
     "execution_count": 34,
     "metadata": {},
     "output_type": "execute_result"
    }
   ],
   "source": [
    "fcs['Full-Time Retention Rate'].mean()"
   ]
  },
  {
   "cell_type": "code",
   "execution_count": 35,
   "metadata": {},
   "outputs": [
    {
     "data": {
      "text/plain": [
       "80.81481481481481"
      ]
     },
     "execution_count": 35,
     "metadata": {},
     "output_type": "execute_result"
    }
   ],
   "source": [
    "nfs['Full-Time Retention Rate'].mean()"
   ]
  },
  {
   "cell_type": "code",
   "execution_count": 36,
   "metadata": {},
   "outputs": [
    {
     "data": {
      "text/plain": [
       "85.06122448979592"
      ]
     },
     "execution_count": 36,
     "metadata": {},
     "output_type": "execute_result"
    }
   ],
   "source": [
    "fbs['Full-Time Retention Rate'].mean()"
   ]
  },
  {
   "cell_type": "code",
   "execution_count": 37,
   "metadata": {},
   "outputs": [],
   "source": [
    "# Merging based on IPEDS to keep the most retention rates\n",
    "merge_3 = pd.merge(ipeds, eada_small, how = 'inner', \n",
    "                  left_on=['unitid', 'institution name'], \n",
    "                   right_on = ['unitid', 'institution_name'])"
   ]
  },
  {
   "cell_type": "code",
   "execution_count": 38,
   "metadata": {},
   "outputs": [
    {
     "data": {
      "text/plain": [
       "71.3847874720358"
      ]
     },
     "execution_count": 38,
     "metadata": {},
     "output_type": "execute_result"
    }
   ],
   "source": [
    "merge_3['EF2018D_RV.Full-time retention rate, 2018'].mean()"
   ]
  },
  {
   "cell_type": "code",
   "execution_count": 39,
   "metadata": {},
   "outputs": [],
   "source": [
    "df_3 = pd.merge(merge_3, knight, how='left', \n",
    "              left_on=['unitid', 'institution name'], \n",
    "              right_on = ['IPEDS ID', 'Data'])"
   ]
  },
  {
   "cell_type": "code",
   "execution_count": 40,
   "metadata": {},
   "outputs": [
    {
     "data": {
      "text/plain": [
       "71.3847874720358"
      ]
     },
     "execution_count": 40,
     "metadata": {},
     "output_type": "execute_result"
    }
   ],
   "source": [
    "df_3['EF2018D_RV.Full-time retention rate, 2018'].mean()"
   ]
  },
  {
   "cell_type": "code",
   "execution_count": 41,
   "metadata": {},
   "outputs": [],
   "source": [
    "# Experimenting with different merge methods to see how it impacts retention rates\n",
    "# This is starting with Knight data because it's the smallest set of the three.\n",
    "merge_4 = pd.merge(knight, ipeds, how = 'left',\n",
    "                  left_on = ['IPEDS ID', 'Data'],\n",
    "                  right_on = ['unitid', 'institution name'])"
   ]
  },
  {
   "cell_type": "code",
   "execution_count": 42,
   "metadata": {},
   "outputs": [],
   "source": [
    "df_4 = pd.merge(merge_4, eada_small, how = 'left',\n",
    "               left_on = ['IPEDS ID', 'Data'],\n",
    "               right_on = ['unitid', 'institution_name'])"
   ]
  },
  {
   "cell_type": "code",
   "execution_count": 43,
   "metadata": {},
   "outputs": [
    {
     "data": {
      "text/plain": [
       "81.3527397260274"
      ]
     },
     "execution_count": 43,
     "metadata": {},
     "output_type": "execute_result"
    }
   ],
   "source": [
    "df_4['EF2018D_RV.Full-time retention rate, 2018'].mean()"
   ]
  },
  {
   "cell_type": "code",
   "execution_count": null,
   "metadata": {},
   "outputs": [],
   "source": []
  }
 ],
 "metadata": {
  "kernelspec": {
   "display_name": "Python (learn-env)",
   "language": "python",
   "name": "learn-env"
  },
  "language_info": {
   "codemirror_mode": {
    "name": "ipython",
    "version": 3
   },
   "file_extension": ".py",
   "mimetype": "text/x-python",
   "name": "python",
   "nbconvert_exporter": "python",
   "pygments_lexer": "ipython3",
   "version": "3.8.5"
  }
 },
 "nbformat": 4,
 "nbformat_minor": 4
}
