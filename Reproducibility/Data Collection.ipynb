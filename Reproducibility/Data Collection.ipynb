{
 "cells": [
  {
   "cell_type": "markdown",
   "metadata": {},
   "source": [
    "# Data Collection"
   ]
  },
  {
   "cell_type": "markdown",
   "metadata": {},
   "source": [
    "The purpose of this notebook is to demonstrate how the data for the Summary Notebook was collected, in case you are interested in trying to reproduce this study in some fashion."
   ]
  },
  {
   "cell_type": "markdown",
   "metadata": {},
   "source": [
    "## Knight Commission"
   ]
  },
  {
   "cell_type": "markdown",
   "metadata": {},
   "source": [
    "The first source used in this project is the [Knight Commission on Intercollegiate Athletics](https://www.knightcommission.org/). Their database is accessible [here](https://cafidatabase.knightcommission.org/). From the databse website, click on \"Go to Custom Reporting.\""
   ]
  },
  {
   "cell_type": "markdown",
   "metadata": {},
   "source": [
    "![img](../Images/Knight_custom_reporting.png)"
   ]
  },
  {
   "cell_type": "markdown",
   "metadata": {},
   "source": [
    "From there, you can customize and select any variables with which you are interested. Given that I wanted to focus on athletic spending (in particular football spending), I selected all variables for every option available on this website. Note that I selected \"All Institutions,\" but did not select any of the NCAA or FBS variables in the section below. I also checked the box to adjust for cost inflation."
   ]
  },
  {
   "cell_type": "markdown",
   "metadata": {},
   "source": [
    "![img](../Images/Knight_data.png)"
   ]
  },
  {
   "cell_type": "markdown",
   "metadata": {},
   "source": [
    "![img](../Images/Knight_schools.png)"
   ]
  },
  {
   "cell_type": "markdown",
   "metadata": {},
   "source": [
    "![img](../Images/Knight_ncaa_years.png)"
   ]
  },
  {
   "cell_type": "markdown",
   "metadata": {},
   "source": [
    "When you click \"Generate Report\" at the bottom of the page, you are then taken to a page titled \"Custom Reporting Results.\" You can either examine the results directly on the website, or if you want to download the data, you can click \"Download Data.\" Note that you will have to enter some personal information before you can download the excel file."
   ]
  },
  {
   "cell_type": "markdown",
   "metadata": {},
   "source": [
    "![img](../Images/Knight_custom_reporting_results.png)"
   ]
  },
  {
   "cell_type": "markdown",
   "metadata": {},
   "source": [
    "Once downloaded, the Excel spreadsheet contains all of the data selected along with a data dictionary on a separate sheet. The formatting is a little odd when you try to open the original Excel sheet using pandas, given that the first three columns are frozen. You can either unfreeze the columns directly on the sheet, or you can create a new Excel documnet, copy/paste the first three rows, and then copy/paste the rest. There are a lot of missing values in this data set, but we will deal with that later when merging all three of our data sets."
   ]
  },
  {
   "cell_type": "code",
   "execution_count": 1,
   "metadata": {},
   "outputs": [],
   "source": [
    "import pandas as pd"
   ]
  },
  {
   "cell_type": "code",
   "execution_count": 4,
   "metadata": {},
   "outputs": [
    {
     "name": "stdout",
     "output_type": "stream",
     "text": [
      "<class 'pandas.core.frame.DataFrame'>\n",
      "RangeIndex: 5295 entries, 0 to 5294\n",
      "Data columns (total 31 columns):\n",
      " #   Column                                                                 Non-Null Count  Dtype  \n",
      "---  ------                                                                 --------------  -----  \n",
      " 0   Data                                                                   5295 non-null   object \n",
      " 1   IPEDS ID                                                               5295 non-null   int64  \n",
      " 2   Year                                                                   5295 non-null   int64  \n",
      " 3   NCAA Subdivision                                                       5295 non-null   object \n",
      " 4   FBS Conference                                                         1853 non-null   object \n",
      " 5   Total Expenses                                                         3370 non-null   float64\n",
      " 6   Excess Transfers Back                                                  3370 non-null   float64\n",
      " 7   Other Expenses                                                         3370 non-null   float64\n",
      " 8   Medical                                                                3364 non-null   float64\n",
      " 9   Competition Guarantees                                                 3362 non-null   float64\n",
      " 10  Recruiting                                                             3363 non-null   float64\n",
      " 11  Game Expenses and Travel                                               3370 non-null   float64\n",
      " 12  Facilities and Equipment                                               3370 non-null   float64\n",
      " 13  Coaches Compensation                                                   3370 non-null   float64\n",
      " 14  Support and Admin Compensation w/Severance                             3370 non-null   float64\n",
      " 15  Athletic Student Aid                                                   3363 non-null   float64\n",
      " 16  Total Revenues                                                         3370 non-null   float64\n",
      " 17  Other Revenue                                                          3370 non-null   float64\n",
      " 18  Corporate Sponsorship, Advertising, Licensing                          3360 non-null   float64\n",
      " 19  Donor Contributions                                                    3370 non-null   float64\n",
      " 20  Competition Guarantees.1                                               3362 non-null   float64\n",
      " 21  NCAA/Conference Distributions, Media Rights, and Post-Season Football  3370 non-null   float64\n",
      " 22  Ticket Sales                                                           3364 non-null   float64\n",
      " 23  Institutional/Government Support                                       3370 non-null   float64\n",
      " 24  Student Fees                                                           3321 non-null   float64\n",
      " 25  Total Institutional/Government Support and Student Fees                3370 non-null   float64\n",
      " 26  Total Academic Spending (University-Wide)                              5280 non-null   float64\n",
      " 27  Total Football Spending                                                2648 non-null   float64\n",
      " 28  Total Football Coaching Salaries                                       2633 non-null   float64\n",
      " 29  Athletics Related Debt                                                 2955 non-null   float64\n",
      " 30  Annual Debt Service, Leases and Rental Fees on Athletic Facilities     2997 non-null   float64\n",
      "dtypes: float64(26), int64(2), object(3)\n",
      "memory usage: 1.3+ MB\n"
     ]
    }
   ],
   "source": [
    "knight = pd.read_excel('../Data/knight_05_19.xlsx')\n",
    "knight.info()"
   ]
  },
  {
   "cell_type": "markdown",
   "metadata": {},
   "source": [
    "## Equity in Athletics Data Analysis (EADA)"
   ]
  },
  {
   "cell_type": "markdown",
   "metadata": {},
   "source": [
    "## The Integrated Postsecondary Education Data System (IPEDS)"
   ]
  },
  {
   "cell_type": "code",
   "execution_count": null,
   "metadata": {},
   "outputs": [],
   "source": []
  }
 ],
 "metadata": {
  "kernelspec": {
   "display_name": "Python (learn-env)",
   "language": "python",
   "name": "learn-env"
  },
  "language_info": {
   "codemirror_mode": {
    "name": "ipython",
    "version": 3
   },
   "file_extension": ".py",
   "mimetype": "text/x-python",
   "name": "python",
   "nbconvert_exporter": "python",
   "pygments_lexer": "ipython3",
   "version": "3.8.5"
  }
 },
 "nbformat": 4,
 "nbformat_minor": 4
}
